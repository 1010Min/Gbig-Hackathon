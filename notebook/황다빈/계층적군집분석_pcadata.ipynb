{
 "cells": [
  {
   "cell_type": "code",
   "execution_count": 1,
   "id": "92e8eb2c",
   "metadata": {},
   "outputs": [],
   "source": [
    "import pandas as pd\n",
    "import numpy as np\n",
    "\n",
    "np.random.seed(42)\n",
    "\n",
    "from matplotlib import pyplot\n",
    "%matplotlib inline\n",
    "\n",
    "import matplotlib as mpl\n",
    "import matplotlib.pyplot as plt\n",
    "import matplotlib.font_manager as fm\n",
    "\n",
    "mpl.rcParams['axes.unicode_minus'] = False\n",
    "mpl.rc(\"font\", family = \"Malgun Gothic\")"
   ]
  },
  {
   "cell_type": "code",
   "execution_count": 2,
   "id": "b05e23a0",
   "metadata": {},
   "outputs": [
    {
     "data": {
      "text/html": [
       "<div>\n",
       "<style scoped>\n",
       "    .dataframe tbody tr th:only-of-type {\n",
       "        vertical-align: middle;\n",
       "    }\n",
       "\n",
       "    .dataframe tbody tr th {\n",
       "        vertical-align: top;\n",
       "    }\n",
       "\n",
       "    .dataframe thead th {\n",
       "        text-align: right;\n",
       "    }\n",
       "</style>\n",
       "<table border=\"1\" class=\"dataframe\">\n",
       "  <thead>\n",
       "    <tr style=\"text-align: right;\">\n",
       "      <th></th>\n",
       "      <th>행정구</th>\n",
       "      <th>공공자전거대여소수</th>\n",
       "      <th>대학생수</th>\n",
       "      <th>버스정류소수</th>\n",
       "      <th>주문인구수</th>\n",
       "      <th>주차장수</th>\n",
       "      <th>지역내총생산</th>\n",
       "      <th>총인구</th>\n",
       "      <th>총전입</th>\n",
       "      <th>코로나19확진자</th>\n",
       "      <th>토지공시지가</th>\n",
       "    </tr>\n",
       "  </thead>\n",
       "  <tbody>\n",
       "    <tr>\n",
       "      <th>0</th>\n",
       "      <td>강남구</td>\n",
       "      <td>145</td>\n",
       "      <td>24333</td>\n",
       "      <td>540</td>\n",
       "      <td>25901</td>\n",
       "      <td>398603</td>\n",
       "      <td>135157</td>\n",
       "      <td>544055</td>\n",
       "      <td>190650</td>\n",
       "      <td>935</td>\n",
       "      <td>7200000</td>\n",
       "    </tr>\n",
       "    <tr>\n",
       "      <th>1</th>\n",
       "      <td>강동구</td>\n",
       "      <td>111</td>\n",
       "      <td>17032</td>\n",
       "      <td>388</td>\n",
       "      <td>21499</td>\n",
       "      <td>203140</td>\n",
       "      <td>21123</td>\n",
       "      <td>463998</td>\n",
       "      <td>202874</td>\n",
       "      <td>582</td>\n",
       "      <td>3676000</td>\n",
       "    </tr>\n",
       "    <tr>\n",
       "      <th>2</th>\n",
       "      <td>강북구</td>\n",
       "      <td>60</td>\n",
       "      <td>12724</td>\n",
       "      <td>412</td>\n",
       "      <td>14895</td>\n",
       "      <td>11107</td>\n",
       "      <td>10286</td>\n",
       "      <td>311569</td>\n",
       "      <td>83250</td>\n",
       "      <td>445</td>\n",
       "      <td>2294000</td>\n",
       "    </tr>\n",
       "    <tr>\n",
       "      <th>3</th>\n",
       "      <td>강서구</td>\n",
       "      <td>162</td>\n",
       "      <td>22970</td>\n",
       "      <td>600</td>\n",
       "      <td>28048</td>\n",
       "      <td>18858</td>\n",
       "      <td>30233</td>\n",
       "      <td>585901</td>\n",
       "      <td>174396</td>\n",
       "      <td>1339</td>\n",
       "      <td>2620000</td>\n",
       "    </tr>\n",
       "    <tr>\n",
       "      <th>4</th>\n",
       "      <td>관악구</td>\n",
       "      <td>71</td>\n",
       "      <td>20319</td>\n",
       "      <td>468</td>\n",
       "      <td>23786</td>\n",
       "      <td>153117</td>\n",
       "      <td>11400</td>\n",
       "      <td>509803</td>\n",
       "      <td>196602</td>\n",
       "      <td>1017</td>\n",
       "      <td>3290000</td>\n",
       "    </tr>\n",
       "  </tbody>\n",
       "</table>\n",
       "</div>"
      ],
      "text/plain": [
       "   행정구  공공자전거대여소수   대학생수  버스정류소수  주문인구수    주차장수  지역내총생산     총인구     총전입  \\\n",
       "0  강남구        145  24333     540  25901  398603  135157  544055  190650   \n",
       "1  강동구        111  17032     388  21499  203140   21123  463998  202874   \n",
       "2  강북구         60  12724     412  14895   11107   10286  311569   83250   \n",
       "3  강서구        162  22970     600  28048   18858   30233  585901  174396   \n",
       "4  관악구         71  20319     468  23786  153117   11400  509803  196602   \n",
       "\n",
       "   코로나19확진자   토지공시지가  \n",
       "0       935  7200000  \n",
       "1       582  3676000  \n",
       "2       445  2294000  \n",
       "3      1339  2620000  \n",
       "4      1017  3290000  "
      ]
     },
     "execution_count": 2,
     "metadata": {},
     "output_type": "execute_result"
    }
   ],
   "source": [
    "df_raw = pd.read_csv(\"pca추출데이터_군집분석(Hierarchical, K-Means).csv\", encoding = \"euc-kr\")\n",
    "df_raw.head()"
   ]
  },
  {
   "cell_type": "code",
   "execution_count": 3,
   "id": "d5e27b0a",
   "metadata": {
    "scrolled": true
   },
   "outputs": [
    {
     "name": "stdout",
     "output_type": "stream",
     "text": [
      "<class 'pandas.core.frame.DataFrame'>\n",
      "RangeIndex: 25 entries, 0 to 24\n",
      "Data columns (total 11 columns):\n",
      " #   Column     Non-Null Count  Dtype \n",
      "---  ------     --------------  ----- \n",
      " 0   행정구        25 non-null     object\n",
      " 1   공공자전거대여소수  25 non-null     int64 \n",
      " 2   대학생수       25 non-null     int64 \n",
      " 3   버스정류소수     25 non-null     int64 \n",
      " 4   주문인구수      25 non-null     int64 \n",
      " 5   주차장수       25 non-null     int64 \n",
      " 6   지역내총생산     25 non-null     int64 \n",
      " 7   총인구        25 non-null     int64 \n",
      " 8   총전입        25 non-null     int64 \n",
      " 9   코로나19확진자   25 non-null     int64 \n",
      " 10  토지공시지가     25 non-null     int64 \n",
      "dtypes: int64(10), object(1)\n",
      "memory usage: 2.3+ KB\n"
     ]
    }
   ],
   "source": [
    "df_raw.info()"
   ]
  },
  {
   "cell_type": "code",
   "execution_count": 4,
   "id": "04fc64fd",
   "metadata": {},
   "outputs": [],
   "source": [
    "x = df_raw.drop([\"행정구\"], axis=1) # 독립변인 추출"
   ]
  },
  {
   "cell_type": "code",
   "execution_count": 5,
   "id": "a57d467f",
   "metadata": {},
   "outputs": [],
   "source": [
    "from sklearn.preprocessing import StandardScaler\n",
    "scaler = StandardScaler()\n",
    "\n",
    "df_x = scaler.fit_transform(x) # 설명변수"
   ]
  },
  {
   "cell_type": "markdown",
   "id": "561c1f1e",
   "metadata": {},
   "source": [
    "## 계층적 군집분석"
   ]
  },
  {
   "cell_type": "code",
   "execution_count": 6,
   "id": "d91e0af4",
   "metadata": {},
   "outputs": [],
   "source": [
    "from scipy.cluster.hierarchy import linkage, dendrogram, fcluster"
   ]
  },
  {
   "cell_type": "code",
   "execution_count": 7,
   "id": "7b3cc8a0",
   "metadata": {},
   "outputs": [
    {
     "data": {
      "text/plain": [
       "Text(0, 0.5, 'sample index')"
      ]
     },
     "execution_count": 7,
     "metadata": {},
     "output_type": "execute_result"
    },
    {
     "data": {
      "image/png": "[encoded data removed]",
      "text/plain": [
       "<Figure size 720x360 with 1 Axes>"
      ]
     },
     "metadata": {
      "needs_background": "light"
     },
     "output_type": "display_data"
    }
   ],
   "source": [
    "# 연결 : single, 거리: Euclidean\n",
    "Z_short = linkage(df_x, method = \"single\", metric = \"euclidean\")\n",
    "\n",
    "plt.figure(figsize = (10, 5))\n",
    "ax = plt.subplot(111)\n",
    "\n",
    "dendrogram(Z_short, labels = df_raw[\"행정구\"].values , leaf_font_size = 10)\n",
    "plt.title(\"최단연결 Dendrogram\")\n",
    "plt.xlabel(\"distance\")\n",
    "plt.ylabel(\"sample index\")"
   ]
  },
  {
   "cell_type": "code",
   "execution_count": 8,
   "id": "abaae2bf",
   "metadata": {},
   "outputs": [
    {
     "data": {
      "text/plain": [
       "Text(0, 0.5, 'sample index')"
      ]
     },
     "execution_count": 8,
     "metadata": {},
     "output_type": "execute_result"
    },
    {
     "data": {
      "image/png": "[encoded data removed]",
      "text/plain": [
       "<Figure size 720x360 with 1 Axes>"
      ]
     },
     "metadata": {
      "needs_background": "light"
     },
     "output_type": "display_data"
    }
   ],
   "source": [
    "# 연결 : average, 거리: Euclidean\n",
    "Z_average = linkage(df_x, method = \"average\", metric = \"euclidean\")\n",
    "\n",
    "plt.figure(figsize = (10, 5))\n",
    "ax = plt.subplot(111)\n",
    "\n",
    "dendrogram(Z_average, labels = df_raw[\"행정구\"].values, leaf_font_size = 10)\n",
    "plt.title(\"평균연결 Dendrogram\")\n",
    "plt.xlabel(\"distance\")\n",
    "plt.ylabel(\"sample index\")"
   ]
  },
  {
   "cell_type": "code",
   "execution_count": 9,
   "id": "c024cfda",
   "metadata": {},
   "outputs": [
    {
     "data": {
      "text/plain": [
       "Text(0, 0.5, 'sample index')"
      ]
     },
     "execution_count": 9,
     "metadata": {},
     "output_type": "execute_result"
    },
    {
     "data": {
      "image/png": "[encoded data removed]",
      "text/plain": [
       "<Figure size 720x360 with 1 Axes>"
      ]
     },
     "metadata": {
      "needs_background": "light"
     },
     "output_type": "display_data"
    }
   ],
   "source": [
    "# 연결 : centroid, 거리: Euclidean\n",
    "Z_centroid = linkage(df_x, method = \"centroid\", metric = \"euclidean\")\n",
    "\n",
    "plt.figure(figsize = (10, 5))\n",
    "ax = plt.subplot(111)\n",
    "\n",
    "dendrogram(Z_centroid, labels = df_raw[\"행정구\"].values, leaf_font_size = 10)\n",
    "plt.title(\"중심연결 Dendrogram\")\n",
    "plt.xlabel(\"distance\")\n",
    "plt.ylabel(\"sample index\")"
   ]
  },
  {
   "cell_type": "code",
   "execution_count": 10,
   "id": "503d9a6f",
   "metadata": {},
   "outputs": [
    {
     "data": {
      "text/plain": [
       "Text(0, 0.5, 'sample index')"
      ]
     },
     "execution_count": 10,
     "metadata": {},
     "output_type": "execute_result"
    },
    {
     "data": {
      "image/png": "[encoded data removed]",
      "text/plain": [
       "<Figure size 720x360 with 1 Axes>"
      ]
     },
     "metadata": {
      "needs_background": "light"
     },
     "output_type": "display_data"
    }
   ],
   "source": [
    "# 연결 : median, 거리: Euclidean\n",
    "Z_median = linkage(df_x, method = \"median\", metric = \"euclidean\")\n",
    "\n",
    "plt.figure(figsize = (10, 5))\n",
    "ax = plt.subplot(111)\n",
    "\n",
    "dendrogram(Z_median, labels = df_raw[\"행정구\"].values, leaf_font_size = 10)\n",
    "plt.title(\"중앙값연결 Dendrogram\")\n",
    "plt.xlabel(\"distance\")\n",
    "plt.ylabel(\"sample index\")"
   ]
  },
  {
   "cell_type": "code",
   "execution_count": 11,
   "id": "17e74383",
   "metadata": {
    "scrolled": false
   },
   "outputs": [
    {
     "data": {
      "text/plain": [
       "Text(0, 0.5, 'sample index')"
      ]
     },
     "execution_count": 11,
     "metadata": {},
     "output_type": "execute_result"
    },
    {
     "data": {
      "image/png": "[encoded data removed]",
      "text/plain": [
       "<Figure size 720x360 with 1 Axes>"
      ]
     },
     "metadata": {
      "needs_background": "light"
     },
     "output_type": "display_data"
    }
   ],
   "source": [
    "# 연결 : complete, 거리: Euclidean\n",
    "Z_long = linkage(df_x, method = \"complete\", metric = \"euclidean\")\n",
    "\n",
    "plt.figure(figsize = (10, 5))\n",
    "ax = plt.subplot(111)\n",
    "\n",
    "dendrogram(Z_long, labels = df_raw[\"행정구\"].values, leaf_font_size = 10)\n",
    "plt.title(\"최장연결 Dendrogram\")\n",
    "plt.xlabel(\"distance\")\n",
    "plt.ylabel(\"sample index\")"
   ]
  },
  {
   "cell_type": "code",
   "execution_count": 12,
   "id": "e6a51213",
   "metadata": {},
   "outputs": [],
   "source": [
    "long_hierarchical_2 = pd.DataFrame(fcluster(Z = Z_long, t = 8, criterion = \"distance\"), index = df_raw[\"행정구\"])\n",
    "long_hierarchical_4 = pd.DataFrame(fcluster(Z = Z_long, t = 6, criterion = \"distance\"), index = df_raw[\"행정구\"])"
   ]
  },
  {
   "cell_type": "code",
   "execution_count": 13,
   "id": "734d9d46",
   "metadata": {},
   "outputs": [
    {
     "data": {
      "text/plain": [
       "array([1, 1, 2, 1, 1, 2, 1, 2, 1, 2, 2, 1, 2, 2, 1, 2, 1, 1, 1, 2, 2, 1,\n",
       "       2, 2, 1], dtype=int32)"
      ]
     },
     "execution_count": 13,
     "metadata": {},
     "output_type": "execute_result"
    }
   ],
   "source": [
    "long_hierarchical_2[0].values"
   ]
  },
  {
   "cell_type": "code",
   "execution_count": 14,
   "id": "2b80fc3e",
   "metadata": {},
   "outputs": [
    {
     "data": {
      "text/plain": [
       "array([2, 1, 3, 2, 1, 3, 1, 3, 1, 3, 3, 1, 3, 3, 2, 3, 1, 2, 1, 3, 3, 1,\n",
       "       3, 4, 1], dtype=int32)"
      ]
     },
     "execution_count": 14,
     "metadata": {},
     "output_type": "execute_result"
    }
   ],
   "source": [
    "long_hierarchical_4[0].values"
   ]
  },
  {
   "cell_type": "code",
   "execution_count": 15,
   "id": "a5e4ebe8",
   "metadata": {},
   "outputs": [
    {
     "data": {
      "text/plain": [
       "Text(0, 0.5, 'sample index')"
      ]
     },
     "execution_count": 15,
     "metadata": {},
     "output_type": "execute_result"
    },
    {
     "data": {
      "image/png": "[encoded data removed]",
      "text/plain": [
       "<Figure size 720x360 with 1 Axes>"
      ]
     },
     "metadata": {
      "needs_background": "light"
     },
     "output_type": "display_data"
    }
   ],
   "source": [
    "# 연결 : ward, 거리: Euclidean\n",
    "Z_ward = linkage(df_x, method = \"ward\", metric = \"euclidean\")\n",
    "\n",
    "plt.figure(figsize = (10, 5))\n",
    "ax = plt.subplot(111)\n",
    "\n",
    "dendrogram(Z_ward, labels = df_raw[\"행정구\"].values, leaf_font_size = 10)\n",
    "plt.title(\"와드연결 Dendrogram\")\n",
    "plt.xlabel(\"distance\")\n",
    "plt.ylabel(\"sample index\")"
   ]
  },
  {
   "cell_type": "code",
   "execution_count": 16,
   "id": "d51f93f4",
   "metadata": {},
   "outputs": [],
   "source": [
    "ward_hierarchical_3 = pd.DataFrame(fcluster(Z = Z_ward, t = 8, criterion = \"distance\"), index = df_raw[\"행정구\"])\n",
    "ward_hierarchical_4 = pd.DataFrame(fcluster(Z = Z_ward, t = 6, criterion = \"distance\"), index = df_raw[\"행정구\"])"
   ]
  },
  {
   "cell_type": "code",
   "execution_count": 17,
   "id": "4f722abe",
   "metadata": {},
   "outputs": [],
   "source": [
    "ward_hierarchical_2 = pd.DataFrame(fcluster(Z = Z_ward, t = 11, criterion = \"distance\"), index = df_raw[\"행정구\"])"
   ]
  },
  {
   "cell_type": "code",
   "execution_count": 18,
   "id": "ea67f98d",
   "metadata": {},
   "outputs": [
    {
     "data": {
      "text/plain": [
       "array([3, 2, 1, 3, 2, 2, 2, 1, 2, 1, 2, 2, 2, 1, 3, 1, 2, 3, 2, 2, 1, 2,\n",
       "       1, 1, 2], dtype=int32)"
      ]
     },
     "execution_count": 18,
     "metadata": {},
     "output_type": "execute_result"
    }
   ],
   "source": [
    "ward_hierarchical_3[0].values"
   ]
  },
  {
   "cell_type": "code",
   "execution_count": 19,
   "id": "cc369d60",
   "metadata": {},
   "outputs": [
    {
     "data": {
      "text/plain": [
       "array([4, 3, 1, 4, 3, 3, 3, 1, 3, 1, 3, 3, 3, 1, 4, 1, 3, 4, 3, 3, 1, 3,\n",
       "       1, 2, 3], dtype=int32)"
      ]
     },
     "execution_count": 19,
     "metadata": {},
     "output_type": "execute_result"
    }
   ],
   "source": [
    "ward_hierarchical_4[0].values"
   ]
  },
  {
   "cell_type": "code",
   "execution_count": 20,
   "id": "fcc92c73",
   "metadata": {},
   "outputs": [
    {
     "data": {
      "text/plain": [
       "array([2, 2, 1, 2, 2, 2, 2, 1, 2, 1, 2, 2, 2, 1, 2, 1, 2, 2, 2, 2, 1, 2,\n",
       "       1, 1, 2], dtype=int32)"
      ]
     },
     "execution_count": 20,
     "metadata": {},
     "output_type": "execute_result"
    }
   ],
   "source": [
    "ward_hierarchical_2[0].values"
   ]
  },
  {
   "cell_type": "code",
   "execution_count": 21,
   "id": "3af76a08",
   "metadata": {},
   "outputs": [
    {
     "data": {
      "text/html": [
       "<div>\n",
       "<style scoped>\n",
       "    .dataframe tbody tr th:only-of-type {\n",
       "        vertical-align: middle;\n",
       "    }\n",
       "\n",
       "    .dataframe tbody tr th {\n",
       "        vertical-align: top;\n",
       "    }\n",
       "\n",
       "    .dataframe thead th {\n",
       "        text-align: right;\n",
       "    }\n",
       "</style>\n",
       "<table border=\"1\" class=\"dataframe\">\n",
       "  <thead>\n",
       "    <tr style=\"text-align: right;\">\n",
       "      <th></th>\n",
       "      <th>행정구</th>\n",
       "      <th>공공자전거대여소수</th>\n",
       "      <th>대학생수</th>\n",
       "      <th>버스정류소수</th>\n",
       "      <th>주문인구수</th>\n",
       "      <th>주차장수</th>\n",
       "      <th>지역내총생산</th>\n",
       "      <th>총인구</th>\n",
       "      <th>총전입</th>\n",
       "      <th>코로나19확진자</th>\n",
       "      <th>토지공시지가</th>\n",
       "      <th>ClusterHierarchical</th>\n",
       "    </tr>\n",
       "  </thead>\n",
       "  <tbody>\n",
       "    <tr>\n",
       "      <th>0</th>\n",
       "      <td>강남구</td>\n",
       "      <td>145</td>\n",
       "      <td>24333</td>\n",
       "      <td>540</td>\n",
       "      <td>25901</td>\n",
       "      <td>398603</td>\n",
       "      <td>135157</td>\n",
       "      <td>544055</td>\n",
       "      <td>190650</td>\n",
       "      <td>935</td>\n",
       "      <td>7200000</td>\n",
       "      <td>3</td>\n",
       "    </tr>\n",
       "    <tr>\n",
       "      <th>1</th>\n",
       "      <td>강동구</td>\n",
       "      <td>111</td>\n",
       "      <td>17032</td>\n",
       "      <td>388</td>\n",
       "      <td>21499</td>\n",
       "      <td>203140</td>\n",
       "      <td>21123</td>\n",
       "      <td>463998</td>\n",
       "      <td>202874</td>\n",
       "      <td>582</td>\n",
       "      <td>3676000</td>\n",
       "      <td>2</td>\n",
       "    </tr>\n",
       "    <tr>\n",
       "      <th>2</th>\n",
       "      <td>강북구</td>\n",
       "      <td>60</td>\n",
       "      <td>12724</td>\n",
       "      <td>412</td>\n",
       "      <td>14895</td>\n",
       "      <td>11107</td>\n",
       "      <td>10286</td>\n",
       "      <td>311569</td>\n",
       "      <td>83250</td>\n",
       "      <td>445</td>\n",
       "      <td>2294000</td>\n",
       "      <td>1</td>\n",
       "    </tr>\n",
       "    <tr>\n",
       "      <th>3</th>\n",
       "      <td>강서구</td>\n",
       "      <td>162</td>\n",
       "      <td>22970</td>\n",
       "      <td>600</td>\n",
       "      <td>28048</td>\n",
       "      <td>18858</td>\n",
       "      <td>30233</td>\n",
       "      <td>585901</td>\n",
       "      <td>174396</td>\n",
       "      <td>1339</td>\n",
       "      <td>2620000</td>\n",
       "      <td>3</td>\n",
       "    </tr>\n",
       "    <tr>\n",
       "      <th>4</th>\n",
       "      <td>관악구</td>\n",
       "      <td>71</td>\n",
       "      <td>20319</td>\n",
       "      <td>468</td>\n",
       "      <td>23786</td>\n",
       "      <td>153117</td>\n",
       "      <td>11400</td>\n",
       "      <td>509803</td>\n",
       "      <td>196602</td>\n",
       "      <td>1017</td>\n",
       "      <td>3290000</td>\n",
       "      <td>2</td>\n",
       "    </tr>\n",
       "  </tbody>\n",
       "</table>\n",
       "</div>"
      ],
      "text/plain": [
       "   행정구  공공자전거대여소수   대학생수  버스정류소수  주문인구수    주차장수  지역내총생산     총인구     총전입  \\\n",
       "0  강남구        145  24333     540  25901  398603  135157  544055  190650   \n",
       "1  강동구        111  17032     388  21499  203140   21123  463998  202874   \n",
       "2  강북구         60  12724     412  14895   11107   10286  311569   83250   \n",
       "3  강서구        162  22970     600  28048   18858   30233  585901  174396   \n",
       "4  관악구         71  20319     468  23786  153117   11400  509803  196602   \n",
       "\n",
       "   코로나19확진자   토지공시지가  ClusterHierarchical  \n",
       "0       935  7200000                    3  \n",
       "1       582  3676000                    2  \n",
       "2       445  2294000                    1  \n",
       "3      1339  2620000                    3  \n",
       "4      1017  3290000                    2  "
      ]
     },
     "execution_count": 21,
     "metadata": {},
     "output_type": "execute_result"
    }
   ],
   "source": [
    "df = df_raw\n",
    "df[\"ClusterHierarchical\"] = ward_hierarchical_3.values\n",
    "df.head()"
   ]
  },
  {
   "cell_type": "markdown",
   "id": "5a4915a8",
   "metadata": {},
   "source": [
    "### 군집별 데이터 요약"
   ]
  },
  {
   "cell_type": "code",
   "execution_count": 22,
   "id": "6c5d1298",
   "metadata": {
    "scrolled": true
   },
   "outputs": [
    {
     "data": {
      "text/html": [
       "<div>\n",
       "<style scoped>\n",
       "    .dataframe tbody tr th:only-of-type {\n",
       "        vertical-align: middle;\n",
       "    }\n",
       "\n",
       "    .dataframe tbody tr th {\n",
       "        vertical-align: top;\n",
       "    }\n",
       "\n",
       "    .dataframe thead th {\n",
       "        text-align: right;\n",
       "    }\n",
       "</style>\n",
       "<table border=\"1\" class=\"dataframe\">\n",
       "  <thead>\n",
       "    <tr style=\"text-align: right;\">\n",
       "      <th></th>\n",
       "      <th>ClusterHierarchical</th>\n",
       "      <th>공공자전거대여소수_min</th>\n",
       "      <th>공공자전거대여소수_mean</th>\n",
       "      <th>공공자전거대여소수_max</th>\n",
       "      <th>대학생수_min</th>\n",
       "      <th>대학생수_mean</th>\n",
       "      <th>대학생수_max</th>\n",
       "      <th>버스정류소수_min</th>\n",
       "      <th>버스정류소수_mean</th>\n",
       "      <th>버스정류소수_max</th>\n",
       "      <th>...</th>\n",
       "      <th>총인구_max</th>\n",
       "      <th>총전입_min</th>\n",
       "      <th>총전입_mean</th>\n",
       "      <th>총전입_max</th>\n",
       "      <th>코로나19확진자_min</th>\n",
       "      <th>코로나19확진자_mean</th>\n",
       "      <th>코로나19확진자_max</th>\n",
       "      <th>토지공시지가_min</th>\n",
       "      <th>토지공시지가_mean</th>\n",
       "      <th>토지공시지가_max</th>\n",
       "    </tr>\n",
       "  </thead>\n",
       "  <tbody>\n",
       "    <tr>\n",
       "      <th>0</th>\n",
       "      <td>1</td>\n",
       "      <td>60</td>\n",
       "      <td>77.125</td>\n",
       "      <td>106</td>\n",
       "      <td>4788</td>\n",
       "      <td>10690.750</td>\n",
       "      <td>14523</td>\n",
       "      <td>200</td>\n",
       "      <td>367.500</td>\n",
       "      <td>456</td>\n",
       "      <td>...</td>\n",
       "      <td>327361</td>\n",
       "      <td>41554</td>\n",
       "      <td>76040.250</td>\n",
       "      <td>113008</td>\n",
       "      <td>283</td>\n",
       "      <td>426.625</td>\n",
       "      <td>574</td>\n",
       "      <td>2282000</td>\n",
       "      <td>3529875.000</td>\n",
       "      <td>5610000</td>\n",
       "    </tr>\n",
       "    <tr>\n",
       "      <th>1</th>\n",
       "      <td>2</td>\n",
       "      <td>71</td>\n",
       "      <td>94.077</td>\n",
       "      <td>136</td>\n",
       "      <td>12777</td>\n",
       "      <td>18143.385</td>\n",
       "      <td>28474</td>\n",
       "      <td>281</td>\n",
       "      <td>444.154</td>\n",
       "      <td>606</td>\n",
       "      <td>...</td>\n",
       "      <td>527032</td>\n",
       "      <td>109816</td>\n",
       "      <td>140502.308</td>\n",
       "      <td>202874</td>\n",
       "      <td>461</td>\n",
       "      <td>727.462</td>\n",
       "      <td>1017</td>\n",
       "      <td>2405000</td>\n",
       "      <td>3212538.462</td>\n",
       "      <td>4920000</td>\n",
       "    </tr>\n",
       "    <tr>\n",
       "      <th>2</th>\n",
       "      <td>3</td>\n",
       "      <td>136</td>\n",
       "      <td>156.750</td>\n",
       "      <td>184</td>\n",
       "      <td>17472</td>\n",
       "      <td>23283.500</td>\n",
       "      <td>28359</td>\n",
       "      <td>429</td>\n",
       "      <td>547.750</td>\n",
       "      <td>622</td>\n",
       "      <td>...</td>\n",
       "      <td>673926</td>\n",
       "      <td>142500</td>\n",
       "      <td>180350.500</td>\n",
       "      <td>213856</td>\n",
       "      <td>826</td>\n",
       "      <td>1054.750</td>\n",
       "      <td>1339</td>\n",
       "      <td>2620000</td>\n",
       "      <td>5160500.000</td>\n",
       "      <td>7200000</td>\n",
       "    </tr>\n",
       "  </tbody>\n",
       "</table>\n",
       "<p>3 rows × 31 columns</p>\n",
       "</div>"
      ],
      "text/plain": [
       "   ClusterHierarchical  공공자전거대여소수_min  공공자전거대여소수_mean  공공자전거대여소수_max  \\\n",
       "0                    1             60          77.125            106   \n",
       "1                    2             71          94.077            136   \n",
       "2                    3            136         156.750            184   \n",
       "\n",
       "   대학생수_min  대학생수_mean  대학생수_max  버스정류소수_min  버스정류소수_mean  버스정류소수_max  ...  \\\n",
       "0      4788  10690.750     14523         200      367.500         456  ...   \n",
       "1     12777  18143.385     28474         281      444.154         606  ...   \n",
       "2     17472  23283.500     28359         429      547.750         622  ...   \n",
       "\n",
       "   총인구_max  총전입_min    총전입_mean  총전입_max  코로나19확진자_min  코로나19확진자_mean  \\\n",
       "0   327361    41554   76040.250   113008           283        426.625   \n",
       "1   527032   109816  140502.308   202874           461        727.462   \n",
       "2   673926   142500  180350.500   213856           826       1054.750   \n",
       "\n",
       "   코로나19확진자_max  토지공시지가_min  토지공시지가_mean  토지공시지가_max  \n",
       "0           574     2282000  3529875.000     5610000  \n",
       "1          1017     2405000  3212538.462     4920000  \n",
       "2          1339     2620000  5160500.000     7200000  \n",
       "\n",
       "[3 rows x 31 columns]"
      ]
     },
     "execution_count": 22,
     "metadata": {},
     "output_type": "execute_result"
    }
   ],
   "source": [
    "# 집계함수를 이용한 군집별 데이터 요약\n",
    "ds_summary_hc = df.groupby(\"ClusterHierarchical\").agg([\"min\", \"mean\", \"max\"])\n",
    "\n",
    "# 집계함수를 이용할 경우 열 이름이 두 줄에 걸쳐 나오므로 한 줄로 변환\n",
    "level0 = ds_summary_hc.columns.get_level_values(0)\n",
    "level1 = ds_summary_hc.columns.get_level_values(1)\n",
    "\n",
    "ds_summary_hc.columns = level0 + \"_\" + level1\n",
    "ds_summary_hc.reset_index(inplace = True)\n",
    "ds_summary_hc.round(3)"
   ]
  }
 ],
 "metadata": {
  "kernelspec": {
   "display_name": "Python 3",
   "language": "python",
   "name": "python3"
  },
  "language_info": {
   "codemirror_mode": {
    "name": "ipython",
    "version": 3
   },
   "file_extension": ".py",
   "mimetype": "text/x-python",
   "name": "python",
   "nbconvert_exporter": "python",
   "pygments_lexer": "ipython3",
   "version": "3.8.10"
  }
 },
 "nbformat": 4,
 "nbformat_minor": 5
}
