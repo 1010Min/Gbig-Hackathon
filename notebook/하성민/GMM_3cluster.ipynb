{
 "cells": [
  {
   "cell_type": "markdown",
   "id": "3bc9c7a6",
   "metadata": {},
   "source": [
    "# Gaussian Mixture Model(GMM)"
   ]
  },
  {
   "cell_type": "code",
   "execution_count": null,
   "id": "6535ea9e",
   "metadata": {},
   "outputs": [],
   "source": [
    "import numpy as np\n",
    "import matplotlib.pyplot as plt\n",
    "from matplotlib import patches\n",
    "from sklearn.mixture import GaussianMixture\n",
    "from sklearn.model_selection import cross_validate\n",
    "from sklearn.model_selection import StratifiedKFold\n",
    "from sklearn.model_selection import KFold"
   ]
  },
  {
   "cell_type": "code",
   "execution_count": null,
   "id": "f86ec3c2",
   "metadata": {},
   "outputs": [],
   "source": [
    "import pandas as pd\n",
    "csv = pd.read_csv('C:/Users/user/Desktop/project/data_pca.csv',encoding = 'euc-kr')\n",
    "df = pd.DataFrame(csv)"
   ]
  },
  {
   "cell_type": "markdown",
   "id": "650d426e",
   "metadata": {},
   "source": [
    "## 학습/테스트 데이터 분할"
   ]
  },
  {
   "cell_type": "code",
   "execution_count": null,
   "id": "7935cb0c",
   "metadata": {},
   "outputs": [],
   "source": [
    "X = df.iloc[:, 1:-1]\n",
    "indices = KFold(n_splits = 5)\n",
    "for train_index, test_index in indices.split(X):\n",
    "    print(\"TRAIN:\", train_index, \"TEST:\", test_index)\n",
    "    X_train, X_test = X.iloc[train_index], X.iloc[test_index]\n",
    "    Y_train, Y_test = X.iloc[train_index], X.iloc[test_index]"
   ]
  },
  {
   "cell_type": "markdown",
   "id": "ae6d8b91",
   "metadata": {},
   "source": [
    "## 클래스 수 추출"
   ]
  },
  {
   "cell_type": "code",
   "execution_count": null,
   "id": "fd0b3304",
   "metadata": {},
   "outputs": [],
   "source": [
    "num_classes = len(np.unique(Y_train))"
   ]
  },
  {
   "cell_type": "markdown",
   "id": "dd3340fd",
   "metadata": {},
   "source": [
    "## 가우시안 혼합 모델"
   ]
  },
  {
   "cell_type": "code",
   "execution_count": null,
   "id": "8ddec767",
   "metadata": {},
   "outputs": [],
   "source": [
    "classifier = GaussianMixture(n_components = 3, covariance_type = \"full\", reg_covar = 1e-5)\n",
    "classifier.means_ = np.array([X_train[Y_train == i].mean(axis = 0) for i in range(num_classes)])\n",
    "classifier.fit(X)\n",
    "gmm_cluster_labels = classifier.predict(X)\n",
    "probs = classifier.predict_proba(X)\n",
    "X['gmm_cluster'] = gmm_cluster_labels"
   ]
  },
  {
   "cell_type": "markdown",
   "id": "9cb8e482",
   "metadata": {},
   "source": [
    "## PLT"
   ]
  },
  {
   "cell_type": "code",
   "execution_count": null,
   "id": "fdcfac72",
   "metadata": {},
   "outputs": [],
   "source": [
    "import matplotlib\n",
    "from matplotlib import font_manager, rc\n",
    "import platform\n",
    "import matplotlib.pyplot as plt\n",
    "import matplotlib.ticker as ticker\n",
    "if platform.system() == 'Windows':\n",
    "    font_name = font_manager.FontProperties(fname=\"c:/Windows/Fonts/malgun.ttf\").get_name()\n",
    "    rc('font', family=font_name)\n",
    "else:    \n",
    "    rc('font', family='AppleGothic')\n",
    "matplotlib.rcParams['axes.unicode_minus'] = False   "
   ]
  },
  {
   "cell_type": "code",
   "execution_count": null,
   "id": "b2c35ca4",
   "metadata": {},
   "outputs": [],
   "source": [
    "from sklearn.decomposition import PCA\n",
    "\n",
    "pca = PCA(n_components = 2)\n",
    "pca_transformed = pca.fit_transform(X)\n",
    "x = pca_transformed[:,0]\n",
    "y = pca_transformed[:,1]\n",
    "annotations = df.iloc[:,0]\n",
    "plt.figure(figsize=(15, 10))\n",
    "plt.grid()\n",
    "plt.scatter(x, y, c = gmm_cluster_labels, s =120, cmap = 'viridis')\n",
    "for i, label in enumerate(annotations):\n",
    "    plt.annotate(label, (x[i], y[i]), fontsize=20)\n",
    "plt.xlabel('Dim 1')\n",
    "plt.ylabel('Dim 2')\n",
    "plt.title('GMM', fontsize = 20)\n",
    "plt.show()"
   ]
  },
  {
   "cell_type": "code",
   "execution_count": null,
   "id": "665d59ef",
   "metadata": {},
   "outputs": [],
   "source": []
  },
  {
   "cell_type": "code",
   "execution_count": null,
   "id": "5b3067c2",
   "metadata": {},
   "outputs": [],
   "source": []
  },
  {
   "cell_type": "code",
   "execution_count": null,
   "id": "59493764",
   "metadata": {},
   "outputs": [],
   "source": []
  }
 ],
 "metadata": {
  "kernelspec": {
   "display_name": "Python 3",
   "language": "python",
   "name": "python3"
  },
  "language_info": {
   "codemirror_mode": {
    "name": "ipython",
    "version": 3
   },
   "file_extension": ".py",
   "mimetype": "text/x-python",
   "name": "python",
   "nbconvert_exporter": "python",
   "pygments_lexer": "ipython3",
   "version": "3.8.8"
  }
 },
 "nbformat": 4,
 "nbformat_minor": 5
}
